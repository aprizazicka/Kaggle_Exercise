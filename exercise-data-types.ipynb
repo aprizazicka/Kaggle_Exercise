{
 "cells": [
  {
   "cell_type": "markdown",
   "id": "69b2a0d3",
   "metadata": {
    "papermill": {
     "duration": 0.009162,
     "end_time": "2024-06-18T15:35:20.338915",
     "exception": false,
     "start_time": "2024-06-18T15:35:20.329753",
     "status": "completed"
    },
    "tags": []
   },
   "source": [
    "**This notebook is an exercise in the [Intro to Programming](https://www.kaggle.com/learn/intro-to-programming) course.  You can reference the tutorial at [this link](https://www.kaggle.com/alexisbcook/data-types).**\n",
    "\n",
    "---\n"
   ]
  },
  {
   "cell_type": "markdown",
   "id": "475fa1be",
   "metadata": {
    "papermill": {
     "duration": 0.008732,
     "end_time": "2024-06-18T15:35:20.356549",
     "exception": false,
     "start_time": "2024-06-18T15:35:20.347817",
     "status": "completed"
    },
    "tags": []
   },
   "source": [
    "In the tutorial, you learned about four different data types: floats, integers, strings, and booleans.  In this exercise, you'll experiment with them.\n",
    "\n",
    "# Set up the notebook\n",
    "\n",
    "Run the next code cell without changes to set up the notebook."
   ]
  },
  {
   "cell_type": "code",
   "execution_count": 1,
   "id": "409ddce9",
   "metadata": {
    "execution": {
     "iopub.execute_input": "2024-06-18T15:35:20.376052Z",
     "iopub.status.busy": "2024-06-18T15:35:20.375617Z",
     "iopub.status.idle": "2024-06-18T15:35:21.376693Z",
     "shell.execute_reply": "2024-06-18T15:35:21.375578Z"
    },
    "papermill": {
     "duration": 1.014796,
     "end_time": "2024-06-18T15:35:21.379927",
     "exception": false,
     "start_time": "2024-06-18T15:35:20.365131",
     "status": "completed"
    },
    "tags": []
   },
   "outputs": [
    {
     "name": "stdout",
     "output_type": "stream",
     "text": [
      "Setup complete.\n"
     ]
    }
   ],
   "source": [
    "# Set up the exercise\n",
    "from learntools.core import binder\n",
    "binder.bind(globals())\n",
    "from learntools.intro_to_programming.ex3 import *\n",
    "print('Setup complete.')"
   ]
  },
  {
   "cell_type": "markdown",
   "id": "7c406640",
   "metadata": {
    "papermill": {
     "duration": 0.008304,
     "end_time": "2024-06-18T15:35:21.397214",
     "exception": false,
     "start_time": "2024-06-18T15:35:21.388910",
     "status": "completed"
    },
    "tags": []
   },
   "source": [
    "# Question 1\n",
    "\n",
    "You have seen how to convert a float to an integer with the `int` function.  Try this out yourself by running the code cell below."
   ]
  },
  {
   "cell_type": "code",
   "execution_count": 2,
   "id": "c6740be0",
   "metadata": {
    "execution": {
     "iopub.execute_input": "2024-06-18T15:35:21.416670Z",
     "iopub.status.busy": "2024-06-18T15:35:21.416114Z",
     "iopub.status.idle": "2024-06-18T15:35:21.423134Z",
     "shell.execute_reply": "2024-06-18T15:35:21.421906Z"
    },
    "papermill": {
     "duration": 0.020137,
     "end_time": "2024-06-18T15:35:21.425977",
     "exception": false,
     "start_time": "2024-06-18T15:35:21.405840",
     "status": "completed"
    },
    "tags": []
   },
   "outputs": [
    {
     "name": "stdout",
     "output_type": "stream",
     "text": [
      "1.0\n",
      "<class 'float'>\n",
      "1\n",
      "<class 'int'>\n"
     ]
    }
   ],
   "source": [
    "# Define a float\n",
    "y = 1.\n",
    "print(y)\n",
    "print(type(y))\n",
    "\n",
    "# Convert float to integer with the int function\n",
    "z = int(y)\n",
    "print(z)\n",
    "print(type(z))"
   ]
  },
  {
   "cell_type": "markdown",
   "id": "203c7d76",
   "metadata": {
    "papermill": {
     "duration": 0.008375,
     "end_time": "2024-06-18T15:35:21.443101",
     "exception": false,
     "start_time": "2024-06-18T15:35:21.434726",
     "status": "completed"
    },
    "tags": []
   },
   "source": [
    "In this case, the float you are using has no numbers after the decimal.  \n",
    "- But what happens when you try to convert a float with a fractional part to an integer?  \n",
    "- How does the outcome of the `int` function change for positive and negative numbers?\n",
    "\n",
    "Use the next code cell to investigate and answer these questions.  Feel free to add or remove any lines of code -- it is your workspace!"
   ]
  },
  {
   "cell_type": "code",
   "execution_count": 3,
   "id": "c78baf06",
   "metadata": {
    "execution": {
     "iopub.execute_input": "2024-06-18T15:35:21.462441Z",
     "iopub.status.busy": "2024-06-18T15:35:21.461985Z",
     "iopub.status.idle": "2024-06-18T15:35:21.468213Z",
     "shell.execute_reply": "2024-06-18T15:35:21.467165Z"
    },
    "papermill": {
     "duration": 0.019372,
     "end_time": "2024-06-18T15:35:21.471339",
     "exception": false,
     "start_time": "2024-06-18T15:35:21.451967",
     "status": "completed"
    },
    "tags": []
   },
   "outputs": [
    {
     "name": "stdout",
     "output_type": "stream",
     "text": [
      "1\n",
      "1\n",
      "-3\n",
      "-2\n"
     ]
    }
   ],
   "source": [
    "# Uncomment and run this code to get started!\n",
    "print(int(1.2321))\n",
    "print(int(1.747))\n",
    "print(int(-3.94535))\n",
    "print(int(-2.19774))"
   ]
  },
  {
   "cell_type": "markdown",
   "id": "da2b4e81",
   "metadata": {
    "papermill": {
     "duration": 0.008622,
     "end_time": "2024-06-18T15:35:21.488720",
     "exception": false,
     "start_time": "2024-06-18T15:35:21.480098",
     "status": "completed"
    },
    "tags": []
   },
   "source": [
    "Once you have an answer, run the code cell below to see the solution.  Viewing the solution will give you credit for answering the problem."
   ]
  },
  {
   "cell_type": "code",
   "execution_count": 4,
   "id": "c5104d8e",
   "metadata": {
    "execution": {
     "iopub.execute_input": "2024-06-18T15:35:21.508238Z",
     "iopub.status.busy": "2024-06-18T15:35:21.507529Z",
     "iopub.status.idle": "2024-06-18T15:35:21.517167Z",
     "shell.execute_reply": "2024-06-18T15:35:21.516209Z"
    },
    "papermill": {
     "duration": 0.022252,
     "end_time": "2024-06-18T15:35:21.519767",
     "exception": false,
     "start_time": "2024-06-18T15:35:21.497515",
     "status": "completed"
    },
    "tags": []
   },
   "outputs": [
    {
     "data": {
      "application/javascript": [
       "parent.postMessage({\"jupyterEvent\": \"custom.exercise_interaction\", \"data\": {\"outcomeType\": 1, \"valueTowardsCompletion\": 0.2, \"interactionType\": 1, \"questionType\": 4, \"questionId\": \"1_FloatToInt\", \"learnToolsVersion\": \"0.3.4\", \"failureMessage\": \"\", \"exceptionClass\": \"\", \"trace\": \"\"}}, \"*\")"
      ],
      "text/plain": [
       "<IPython.core.display.Javascript object>"
      ]
     },
     "metadata": {},
     "output_type": "display_data"
    },
    {
     "data": {
      "text/markdown": [
       "<span style=\"color:#33cc33\">Correct:</span> \n",
       "\n",
       "Negative floats are always rounded UP to the closest integer (for instance, both -1.1 and -1.9 are rounded up to -1). Positive floats are always rounded DOWN to the closest integer (for instance, 2.1 and 2.9 are rounded down to 2)."
      ],
      "text/plain": [
       "Correct: \n",
       "\n",
       "Negative floats are always rounded UP to the closest integer (for instance, both -1.1 and -1.9 are rounded up to -1). Positive floats are always rounded DOWN to the closest integer (for instance, 2.1 and 2.9 are rounded down to 2)."
      ]
     },
     "metadata": {},
     "output_type": "display_data"
    }
   ],
   "source": [
    "# Check your answer (Run this code cell to receive credit!)\n",
    "q1.check()"
   ]
  },
  {
   "cell_type": "markdown",
   "id": "29e06d21",
   "metadata": {
    "papermill": {
     "duration": 0.008903,
     "end_time": "2024-06-18T15:35:21.537835",
     "exception": false,
     "start_time": "2024-06-18T15:35:21.528932",
     "status": "completed"
    },
    "tags": []
   },
   "source": [
    "# Question 2\n",
    "\n",
    "In the tutorial, you learned about booleans (which can take a value of `True` or `False`), in addition to integers, floats, and strings.  For this question, your goal is to determine what happens when you multiply a boolean by any of these data types.  Specifically, \n",
    "- What happens when you multiply an integer or float by `True`?  What happens when you multiply them by `False`?  How does the answer change if the numbers are positive or negative?\n",
    "- What happens when you multiply a string by `True`?  By `False`?\n",
    "\n",
    "Use the next code cell for your investigation. "
   ]
  },
  {
   "cell_type": "code",
   "execution_count": 5,
   "id": "9e3948f6",
   "metadata": {
    "execution": {
     "iopub.execute_input": "2024-06-18T15:35:21.558341Z",
     "iopub.status.busy": "2024-06-18T15:35:21.557419Z",
     "iopub.status.idle": "2024-06-18T15:35:21.563857Z",
     "shell.execute_reply": "2024-06-18T15:35:21.562805Z"
    },
    "papermill": {
     "duration": 0.020246,
     "end_time": "2024-06-18T15:35:21.567265",
     "exception": false,
     "start_time": "2024-06-18T15:35:21.547019",
     "status": "completed"
    },
    "tags": []
   },
   "outputs": [
    {
     "name": "stdout",
     "output_type": "stream",
     "text": [
      "3\n",
      "-3.1\n",
      "<class 'str'>\n",
      "0\n"
     ]
    }
   ],
   "source": [
    "# Uncomment and run this code to get started!\n",
    "print(3 * True)\n",
    "print(-3.1 * True)\n",
    "print(type(\"abc\" * False))\n",
    "print(len(\"abc\" * False))"
   ]
  },
  {
   "cell_type": "markdown",
   "id": "16354f0b",
   "metadata": {
    "papermill": {
     "duration": 0.009282,
     "end_time": "2024-06-18T15:35:21.586037",
     "exception": false,
     "start_time": "2024-06-18T15:35:21.576755",
     "status": "completed"
    },
    "tags": []
   },
   "source": [
    "Once you have an answer, run the code cell below to see the solution.  Viewing the solution will give you credit for answering the problem."
   ]
  },
  {
   "cell_type": "code",
   "execution_count": 6,
   "id": "8ae44937",
   "metadata": {
    "execution": {
     "iopub.execute_input": "2024-06-18T15:35:21.606583Z",
     "iopub.status.busy": "2024-06-18T15:35:21.606148Z",
     "iopub.status.idle": "2024-06-18T15:35:21.614983Z",
     "shell.execute_reply": "2024-06-18T15:35:21.613935Z"
    },
    "papermill": {
     "duration": 0.021935,
     "end_time": "2024-06-18T15:35:21.617448",
     "exception": false,
     "start_time": "2024-06-18T15:35:21.595513",
     "status": "completed"
    },
    "tags": []
   },
   "outputs": [
    {
     "data": {
      "application/javascript": [
       "parent.postMessage({\"jupyterEvent\": \"custom.exercise_interaction\", \"data\": {\"outcomeType\": 1, \"valueTowardsCompletion\": 0.2, \"interactionType\": 1, \"questionType\": 4, \"questionId\": \"2_MultiplyBooleans\", \"learnToolsVersion\": \"0.3.4\", \"failureMessage\": \"\", \"exceptionClass\": \"\", \"trace\": \"\"}}, \"*\")"
      ],
      "text/plain": [
       "<IPython.core.display.Javascript object>"
      ]
     },
     "metadata": {},
     "output_type": "display_data"
    },
    {
     "data": {
      "text/markdown": [
       "<span style=\"color:#33cc33\">Correct:</span> \n",
       "\n",
       "When you multiple an integer or float by a boolean with value `True`, it just returns that same integer or float (and is equivalent to multiplying by 1).  If you multiply an integer or float by a boolean with value `False`, it always returns 0.  This is true for both positive and negative numbers.  If you multiply a string by a boolean with value `True`, it just returns that same string.  And if you multiply a string by a boolean with value `False`, it returns an empty string (or a string with length zero)."
      ],
      "text/plain": [
       "Correct: \n",
       "\n",
       "When you multiple an integer or float by a boolean with value `True`, it just returns that same integer or float (and is equivalent to multiplying by 1).  If you multiply an integer or float by a boolean with value `False`, it always returns 0.  This is true for both positive and negative numbers.  If you multiply a string by a boolean with value `True`, it just returns that same string.  And if you multiply a string by a boolean with value `False`, it returns an empty string (or a string with length zero)."
      ]
     },
     "metadata": {},
     "output_type": "display_data"
    }
   ],
   "source": [
    "# Check your answer (Run this code cell to receive credit!)\n",
    "q2.check()"
   ]
  },
  {
   "cell_type": "markdown",
   "id": "3bb99765",
   "metadata": {
    "papermill": {
     "duration": 0.009382,
     "end_time": "2024-06-18T15:35:21.636648",
     "exception": false,
     "start_time": "2024-06-18T15:35:21.627266",
     "status": "completed"
    },
    "tags": []
   },
   "source": [
    "# Question 3\n",
    "\n",
    "In this question, you will build off your work from the previous exercise to write a function that estimates the value of a house.\n",
    "\n",
    "Use the next code cell to create a function `get_expected_cost` that takes as input three variables:\n",
    "- `beds` - number of bedrooms (data type float)\n",
    "- `baths` - number of bathrooms (data type float)\n",
    "- `has_basement` - whether or not the house has a basement (data type boolean)\n",
    "\n",
    "It should return the expected cost of a house with those characteristics. Assume that:\n",
    "- the expected cost for a house with 0 bedrooms and 0 bathrooms, and no basement is 80000, \n",
    "- each bedroom adds 30000 to the expected cost,\n",
    "- each bathroom adds 10000 to the expected cost, and\n",
    "- a basement adds 40000 to the expected cost.\n",
    "\n",
    "For instance,\n",
    "- a house with 1 bedroom, 1 bathroom, and no basement has an expected cost of 80000 + 30000 + 10000 = 120000.  This value will be calculated with `get_expected_cost(1, 1, False)`.\n",
    "- a house with 2 bedrooms, 1 bathroom, and a basement has an expected cost of 80000 + 2*30000 + 10000 + 40000 = 190000.  This value will be calculated with `get_expected_cost(2, 1, True)`.\n",
    "\n",
    "Remember you can always get a hint by uncommenting `q3.hint()` in the code cell following the next!"
   ]
  },
  {
   "cell_type": "code",
   "execution_count": 7,
   "id": "98db3c51",
   "metadata": {
    "execution": {
     "iopub.execute_input": "2024-06-18T15:35:21.659414Z",
     "iopub.status.busy": "2024-06-18T15:35:21.658878Z",
     "iopub.status.idle": "2024-06-18T15:35:21.669153Z",
     "shell.execute_reply": "2024-06-18T15:35:21.667922Z"
    },
    "papermill": {
     "duration": 0.024661,
     "end_time": "2024-06-18T15:35:21.671575",
     "exception": false,
     "start_time": "2024-06-18T15:35:21.646914",
     "status": "completed"
    },
    "tags": []
   },
   "outputs": [
    {
     "data": {
      "application/javascript": [
       "parent.postMessage({\"jupyterEvent\": \"custom.exercise_interaction\", \"data\": {\"outcomeType\": 1, \"valueTowardsCompletion\": 0.2, \"interactionType\": 1, \"questionType\": 2, \"questionId\": \"3_EstimateHouseValueBool\", \"learnToolsVersion\": \"0.3.4\", \"failureMessage\": \"\", \"exceptionClass\": \"\", \"trace\": \"\"}}, \"*\")"
      ],
      "text/plain": [
       "<IPython.core.display.Javascript object>"
      ]
     },
     "metadata": {},
     "output_type": "display_data"
    },
    {
     "data": {
      "text/markdown": [
       "<span style=\"color:#33cc33\">Correct</span>"
      ],
      "text/plain": [
       "Correct"
      ]
     },
     "metadata": {},
     "output_type": "display_data"
    }
   ],
   "source": [
    "# TODO: Complete the function\n",
    "def get_expected_cost(beds, baths, has_basement):\n",
    "    value = 80000 + (beds*30000) + (baths*10000) + (has_basement*40000)\n",
    "    return value\n",
    "\n",
    "# Check your answer \n",
    "q3.check()"
   ]
  },
  {
   "cell_type": "code",
   "execution_count": 8,
   "id": "302f000d",
   "metadata": {
    "execution": {
     "iopub.execute_input": "2024-06-18T15:35:21.693762Z",
     "iopub.status.busy": "2024-06-18T15:35:21.693350Z",
     "iopub.status.idle": "2024-06-18T15:35:21.702671Z",
     "shell.execute_reply": "2024-06-18T15:35:21.701617Z"
    },
    "papermill": {
     "duration": 0.022949,
     "end_time": "2024-06-18T15:35:21.705009",
     "exception": false,
     "start_time": "2024-06-18T15:35:21.682060",
     "status": "completed"
    },
    "tags": []
   },
   "outputs": [
    {
     "data": {
      "application/javascript": [
       "parent.postMessage({\"jupyterEvent\": \"custom.exercise_interaction\", \"data\": {\"interactionType\": 2, \"questionType\": 2, \"questionId\": \"3_EstimateHouseValueBool\", \"learnToolsVersion\": \"0.3.4\", \"valueTowardsCompletion\": 0.0, \"failureMessage\": \"\", \"exceptionClass\": \"\", \"trace\": \"\", \"outcomeType\": 4}}, \"*\")"
      ],
      "text/plain": [
       "<IPython.core.display.Javascript object>"
      ]
     },
     "metadata": {},
     "output_type": "display_data"
    },
    {
     "data": {
      "text/markdown": [
       "<span style=\"color:#3366cc\">Hint:</span> The variable `has_basement` is either `True` or `False`.  What happens when you multiply it by 40000 (the value of a basement)?  Refer to the previous question if you are unsure."
      ],
      "text/plain": [
       "Hint: The variable `has_basement` is either `True` or `False`.  What happens when you multiply it by 40000 (the value of a basement)?  Refer to the previous question if you are unsure."
      ]
     },
     "metadata": {},
     "output_type": "display_data"
    }
   ],
   "source": [
    "# Uncomment to see a hint\n",
    "q3.hint()\n",
    "\n",
    "# Uncomment to view the solution\n",
    "# q3.solution()"
   ]
  },
  {
   "cell_type": "markdown",
   "id": "b93afa14",
   "metadata": {
    "papermill": {
     "duration": 0.01002,
     "end_time": "2024-06-18T15:35:21.725328",
     "exception": false,
     "start_time": "2024-06-18T15:35:21.715308",
     "status": "completed"
    },
    "tags": []
   },
   "source": [
    "# Question 4\n",
    "\n",
    "We'll continue our study of boolean arithmetic.  For this question, your task is to provide a description of what happpens when you add booleans. \n",
    "\n",
    "Use the next code cell for your investigation.  Feel free to add or remove any lines of code - use it as your workspace!"
   ]
  },
  {
   "cell_type": "code",
   "execution_count": 9,
   "id": "a71fcf1d",
   "metadata": {
    "execution": {
     "iopub.execute_input": "2024-06-18T15:35:21.747945Z",
     "iopub.status.busy": "2024-06-18T15:35:21.747171Z",
     "iopub.status.idle": "2024-06-18T15:35:21.753800Z",
     "shell.execute_reply": "2024-06-18T15:35:21.752658Z"
    },
    "papermill": {
     "duration": 0.020651,
     "end_time": "2024-06-18T15:35:21.756322",
     "exception": false,
     "start_time": "2024-06-18T15:35:21.735671",
     "status": "completed"
    },
    "tags": []
   },
   "outputs": [
    {
     "name": "stdout",
     "output_type": "stream",
     "text": [
      "0\n",
      "1\n",
      "1\n",
      "2\n",
      "3\n"
     ]
    }
   ],
   "source": [
    "print(False + False)\n",
    "print(True + False)\n",
    "print(False + True)\n",
    "print(True + True)\n",
    "print(False + True + True + True)"
   ]
  },
  {
   "cell_type": "markdown",
   "id": "6bc3aab2",
   "metadata": {
    "papermill": {
     "duration": 0.010134,
     "end_time": "2024-06-18T15:35:21.777151",
     "exception": false,
     "start_time": "2024-06-18T15:35:21.767017",
     "status": "completed"
    },
    "tags": []
   },
   "source": [
    "Once you have an answer, run the code cell below to see the solution.  Viewing the solution will give you credit for answering the problem."
   ]
  },
  {
   "cell_type": "code",
   "execution_count": 10,
   "id": "626bfe28",
   "metadata": {
    "execution": {
     "iopub.execute_input": "2024-06-18T15:35:21.800268Z",
     "iopub.status.busy": "2024-06-18T15:35:21.799309Z",
     "iopub.status.idle": "2024-06-18T15:35:21.809174Z",
     "shell.execute_reply": "2024-06-18T15:35:21.808094Z"
    },
    "papermill": {
     "duration": 0.02416,
     "end_time": "2024-06-18T15:35:21.811695",
     "exception": false,
     "start_time": "2024-06-18T15:35:21.787535",
     "status": "completed"
    },
    "tags": []
   },
   "outputs": [
    {
     "data": {
      "application/javascript": [
       "parent.postMessage({\"jupyterEvent\": \"custom.exercise_interaction\", \"data\": {\"outcomeType\": 1, \"valueTowardsCompletion\": 0.2, \"interactionType\": 1, \"questionType\": 4, \"questionId\": \"4_AddingBooleans\", \"learnToolsVersion\": \"0.3.4\", \"failureMessage\": \"\", \"exceptionClass\": \"\", \"trace\": \"\"}}, \"*\")"
      ],
      "text/plain": [
       "<IPython.core.display.Javascript object>"
      ]
     },
     "metadata": {},
     "output_type": "display_data"
    },
    {
     "data": {
      "text/markdown": [
       "<span style=\"color:#33cc33\">Correct:</span> \n",
       "\n",
       "When you add booleans, adding `False` is equivalent to adding 0, and adding `True` is equivalent to adding 1."
      ],
      "text/plain": [
       "Correct: \n",
       "\n",
       "When you add booleans, adding `False` is equivalent to adding 0, and adding `True` is equivalent to adding 1."
      ]
     },
     "metadata": {},
     "output_type": "display_data"
    }
   ],
   "source": [
    "# Check your answer (Run this code cell to receive credit!)\n",
    "q4.check()"
   ]
  },
  {
   "cell_type": "markdown",
   "id": "9ead3f3b",
   "metadata": {
    "papermill": {
     "duration": 0.010612,
     "end_time": "2024-06-18T15:35:21.833124",
     "exception": false,
     "start_time": "2024-06-18T15:35:21.822512",
     "status": "completed"
    },
    "tags": []
   },
   "source": [
    "# 🌶️ Question 5\n",
    "\n",
    "You own an online shop where you sell rings with custom engravings.  You offer both gold plated and solid gold rings.\n",
    "- Gold plated rings have a base cost of \\\\$50, and you charge \\\\$7 per engraved unit.  \n",
    "- Solid gold rings have a base cost of \\\\$100, and you charge \\\\$10 per engraved unit.\n",
    "- Spaces and punctuation are counted as engraved units.\n",
    "\n",
    "Write a function `cost_of_project()` that takes two arguments:\n",
    "- `engraving` - a Python string with the text of the engraving\n",
    "- `solid_gold` - a Boolean that indicates whether the ring is solid gold\n",
    "\n",
    "It should return the cost of the project.  This question should be fairly challenging, and you may need a hint."
   ]
  },
  {
   "cell_type": "code",
   "execution_count": 11,
   "id": "3493386b",
   "metadata": {
    "execution": {
     "iopub.execute_input": "2024-06-18T15:35:21.857375Z",
     "iopub.status.busy": "2024-06-18T15:35:21.856972Z",
     "iopub.status.idle": "2024-06-18T15:35:21.867323Z",
     "shell.execute_reply": "2024-06-18T15:35:21.866239Z"
    },
    "papermill": {
     "duration": 0.025292,
     "end_time": "2024-06-18T15:35:21.869909",
     "exception": false,
     "start_time": "2024-06-18T15:35:21.844617",
     "status": "completed"
    },
    "tags": []
   },
   "outputs": [
    {
     "data": {
      "application/javascript": [
       "parent.postMessage({\"jupyterEvent\": \"custom.exercise_interaction\", \"data\": {\"outcomeType\": 1, \"valueTowardsCompletion\": 0.2, \"interactionType\": 1, \"questionType\": 2, \"questionId\": \"5_CustomEngravings\", \"learnToolsVersion\": \"0.3.4\", \"failureMessage\": \"\", \"exceptionClass\": \"\", \"trace\": \"\"}}, \"*\")"
      ],
      "text/plain": [
       "<IPython.core.display.Javascript object>"
      ]
     },
     "metadata": {},
     "output_type": "display_data"
    },
    {
     "data": {
      "text/markdown": [
       "<span style=\"color:#33cc33\">Correct</span>"
      ],
      "text/plain": [
       "Correct"
      ]
     },
     "metadata": {},
     "output_type": "display_data"
    }
   ],
   "source": [
    "def cost_of_project(engraving, solid_gold):\n",
    "    cost = solid_gold * (100 + 10 * len(engraving)) + (not solid_gold) * (50 + 7 * len(engraving))\n",
    "    return cost\n",
    "\n",
    "# Check your answer\n",
    "q5.check()"
   ]
  },
  {
   "cell_type": "code",
   "execution_count": 12,
   "id": "6d40c490",
   "metadata": {
    "execution": {
     "iopub.execute_input": "2024-06-18T15:35:21.894641Z",
     "iopub.status.busy": "2024-06-18T15:35:21.894213Z",
     "iopub.status.idle": "2024-06-18T15:35:21.903213Z",
     "shell.execute_reply": "2024-06-18T15:35:21.902151Z"
    },
    "papermill": {
     "duration": 0.024688,
     "end_time": "2024-06-18T15:35:21.905809",
     "exception": false,
     "start_time": "2024-06-18T15:35:21.881121",
     "status": "completed"
    },
    "tags": []
   },
   "outputs": [
    {
     "data": {
      "application/javascript": [
       "parent.postMessage({\"jupyterEvent\": \"custom.exercise_interaction\", \"data\": {\"interactionType\": 2, \"questionType\": 2, \"questionId\": \"5_CustomEngravings\", \"learnToolsVersion\": \"0.3.4\", \"valueTowardsCompletion\": 0.0, \"failureMessage\": \"\", \"exceptionClass\": \"\", \"trace\": \"\", \"outcomeType\": 4}}, \"*\")"
      ],
      "text/plain": [
       "<IPython.core.display.Javascript object>"
      ]
     },
     "metadata": {},
     "output_type": "display_data"
    },
    {
     "data": {
      "text/markdown": [
       "<span style=\"color:#3366cc\">Hint:</span> There are two options - either the project uses solid gold or does not.  With this in mind, you can structure your solution like this: `cost = solid_gold * ____ + (not solid_gold) * ____`.  You need to figure out how to fill in the blanks. Also, remember that:\n",
       "- If `solid_gold = True`, then `(not solid_gold) = False`, and if `solid_gold = False`, then `(not solid_gold) = True`.\n",
       "- Multiplying an integer by `True` is equivalent to multiplying it by 1, and multiplying an integer by `False` is equivalent to multiplying it by 0."
      ],
      "text/plain": [
       "Hint: There are two options - either the project uses solid gold or does not.  With this in mind, you can structure your solution like this: `cost = solid_gold * ____ + (not solid_gold) * ____`.  You need to figure out how to fill in the blanks. Also, remember that:\n",
       "- If `solid_gold = True`, then `(not solid_gold) = False`, and if `solid_gold = False`, then `(not solid_gold) = True`.\n",
       "- Multiplying an integer by `True` is equivalent to multiplying it by 1, and multiplying an integer by `False` is equivalent to multiplying it by 0."
      ]
     },
     "metadata": {},
     "output_type": "display_data"
    }
   ],
   "source": [
    "# Uncomment to see a hint\n",
    "q5.hint()\n",
    "\n",
    "# Uncomment to view the solution\n",
    "# q5.solution()"
   ]
  },
  {
   "cell_type": "markdown",
   "id": "38faae60",
   "metadata": {
    "papermill": {
     "duration": 0.01118,
     "end_time": "2024-06-18T15:35:21.928452",
     "exception": false,
     "start_time": "2024-06-18T15:35:21.917272",
     "status": "completed"
    },
    "tags": []
   },
   "source": [
    "Run the next code cell to calculate the cost of engraving `Charlie+Denver` on a solid gold ring."
   ]
  },
  {
   "cell_type": "code",
   "execution_count": 13,
   "id": "b0b339e4",
   "metadata": {
    "execution": {
     "iopub.execute_input": "2024-06-18T15:35:21.952891Z",
     "iopub.status.busy": "2024-06-18T15:35:21.952494Z",
     "iopub.status.idle": "2024-06-18T15:35:21.958311Z",
     "shell.execute_reply": "2024-06-18T15:35:21.957210Z"
    },
    "papermill": {
     "duration": 0.021129,
     "end_time": "2024-06-18T15:35:21.961005",
     "exception": false,
     "start_time": "2024-06-18T15:35:21.939876",
     "status": "completed"
    },
    "tags": []
   },
   "outputs": [
    {
     "name": "stdout",
     "output_type": "stream",
     "text": [
      "240\n"
     ]
    }
   ],
   "source": [
    "project_one = cost_of_project(\"Charlie+Denver\", True)\n",
    "print(project_one)"
   ]
  },
  {
   "cell_type": "markdown",
   "id": "d035bf41",
   "metadata": {
    "papermill": {
     "duration": 0.01145,
     "end_time": "2024-06-18T15:35:21.984079",
     "exception": false,
     "start_time": "2024-06-18T15:35:21.972629",
     "status": "completed"
    },
    "tags": []
   },
   "source": [
    "Use the next code cell to calculate the cost of engraving `08/10/2000` on a gold plated ring."
   ]
  },
  {
   "cell_type": "code",
   "execution_count": 14,
   "id": "3fdef10a",
   "metadata": {
    "execution": {
     "iopub.execute_input": "2024-06-18T15:35:22.009152Z",
     "iopub.status.busy": "2024-06-18T15:35:22.008750Z",
     "iopub.status.idle": "2024-06-18T15:35:22.014453Z",
     "shell.execute_reply": "2024-06-18T15:35:22.013207Z"
    },
    "papermill": {
     "duration": 0.021357,
     "end_time": "2024-06-18T15:35:22.017226",
     "exception": false,
     "start_time": "2024-06-18T15:35:21.995869",
     "status": "completed"
    },
    "tags": []
   },
   "outputs": [
    {
     "name": "stdout",
     "output_type": "stream",
     "text": [
      "120\n"
     ]
    }
   ],
   "source": [
    "project_two = cost_of_project(\"08/10/2000\", False)\n",
    "print(project_two)"
   ]
  },
  {
   "cell_type": "markdown",
   "id": "9a0226dd",
   "metadata": {
    "papermill": {
     "duration": 0.011669,
     "end_time": "2024-06-18T15:35:22.040663",
     "exception": false,
     "start_time": "2024-06-18T15:35:22.028994",
     "status": "completed"
    },
    "tags": []
   },
   "source": [
    "# Keep going\n",
    "\n",
    "Continue to the next lesson to **[learn about conditions and conditional statements](https://www.kaggle.com/alexisbcook/conditions-and-conditional-statements)**."
   ]
  },
  {
   "cell_type": "markdown",
   "id": "f9b8cbdc",
   "metadata": {
    "papermill": {
     "duration": 0.011418,
     "end_time": "2024-06-18T15:35:22.064781",
     "exception": false,
     "start_time": "2024-06-18T15:35:22.053363",
     "status": "completed"
    },
    "tags": []
   },
   "source": [
    "---\n",
    "\n",
    "\n",
    "\n",
    "\n",
    "*Have questions or comments? Visit the [course discussion forum](https://www.kaggle.com/learn/intro-to-programming/discussion) to chat with other learners.*"
   ]
  }
 ],
 "metadata": {
  "kaggle": {
   "accelerator": "none",
   "dataSources": [],
   "isGpuEnabled": false,
   "isInternetEnabled": false,
   "language": "python",
   "sourceType": "notebook"
  },
  "kernelspec": {
   "display_name": "Python 3",
   "language": "python",
   "name": "python3"
  },
  "language_info": {
   "codemirror_mode": {
    "name": "ipython",
    "version": 3
   },
   "file_extension": ".py",
   "mimetype": "text/x-python",
   "name": "python",
   "nbconvert_exporter": "python",
   "pygments_lexer": "ipython3",
   "version": "3.10.13"
  },
  "papermill": {
   "default_parameters": {},
   "duration": 5.380123,
   "end_time": "2024-06-18T15:35:22.598878",
   "environment_variables": {},
   "exception": null,
   "input_path": "__notebook__.ipynb",
   "output_path": "__notebook__.ipynb",
   "parameters": {},
   "start_time": "2024-06-18T15:35:17.218755",
   "version": "2.3.3"
  }
 },
 "nbformat": 4,
 "nbformat_minor": 5
}
